{
 "cells": [
  {
   "cell_type": "markdown",
   "metadata": {},
   "source": [
    "# Capstone Project Proposal"
   ]
  },
  {
   "cell_type": "markdown",
   "metadata": {},
   "source": [
    "## Problem to address:\n",
    "\n",
    "NYC is a massive place with hundreds of neighborhoods. Finding a place to live can be a dauting task. Some factors to think about when narrowing down a place is how much variety will your neighborhood afford you and how many green spaces/parks will you be near. The park consideration is extra important if you have a dog.\n",
    "I'd like to be able to cluster neighborhoods by the amount of venues, the unique venue types, the number or parks, and the size of those parks."
   ]
  },
  {
   "cell_type": "markdown",
   "metadata": {},
   "source": [
    "## Data to use:\n",
    "\n",
    "There will be two data sources for this project:\n",
    "First, I will be utilizing Foursquare to pull in venue information\n",
    "Second, I will be using NYC Open Data\n",
    "https://opendata.cityofnewyork.us/\n",
    "NYC Open data is a great source for data.\n",
    "The two data files I will be using are:\n",
    "'Neighborhood Names GIS' and 'Park Properties'\n",
    "The data can be pulled from this site via the Socrata Open Data API"
   ]
  },
  {
   "cell_type": "markdown",
   "metadata": {},
   "source": [
    "## Methodology\n",
    "\n",
    "I will get a list of neighborhoods with their longitude and latitude.\n",
    "Using these coordinates, I will compare a list of parks to determine how many are within a reasonable distance (0.33 miles), and what the sum of the acerage of said parks.\n",
    "Additionally, those coordinates will be used with the Foursquare API to get a list of venues in each neighborhood and finally a list of unique venue types.\n",
    "\n",
    "Using this data, I will cluster the neighborhoods to see if there are any trends that would point me to a specific location."
   ]
  }
 ],
 "metadata": {
  "kernelspec": {
   "display_name": "Python 3",
   "language": "python",
   "name": "python3"
  },
  "language_info": {
   "codemirror_mode": {
    "name": "ipython",
    "version": 3
   },
   "file_extension": ".py",
   "mimetype": "text/x-python",
   "name": "python",
   "nbconvert_exporter": "python",
   "pygments_lexer": "ipython3",
   "version": "3.8.5"
  }
 },
 "nbformat": 4,
 "nbformat_minor": 4
}
